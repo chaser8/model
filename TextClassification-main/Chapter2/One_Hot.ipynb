{
 "cells": [
  {
   "cell_type": "markdown",
   "metadata": {
    "colab_type": "text",
    "id": "view-in-github"
   },
   "source": [
    "<a href=\"https://colab.research.google.com/github/luojie1024/TextClassification/blob/main/One_Hot.ipynb\" target=\"_parent\"><img src=\"https://colab.research.google.com/assets/colab-badge.svg\" alt=\"Open In Colab\"/></a>"
   ]
  },
  {
   "cell_type": "markdown",
   "source": [
    "# 独热编码(One-Hot)"
   ],
   "metadata": {
    "collapsed": false
   }
  },
  {
   "cell_type": "code",
   "execution_count": 19,
   "metadata": {
    "id": "WesbqIx1iKYL",
    "ExecuteTime": {
     "end_time": "2023-12-18T07:06:44.156423Z",
     "start_time": "2023-12-18T07:06:29.659236Z"
    }
   },
   "outputs": [
    {
     "name": "stdout",
     "output_type": "stream",
     "text": [
      "Looking in indexes: http://pypi.douban.com/simple/\r\n",
      "Collecting scikit-learn\r\n",
      "  Downloading https://mirrors.cloud.tencent.com/pypi/packages/40/c6/2e91eefb757822e70d351e02cc38d07c137212ae7c41ac12746415b4860a/scikit_learn-1.3.2-cp311-cp311-macosx_12_0_arm64.whl (9.4 MB)\r\n",
      "\u001B[2K     \u001B[90m━━━━━━━━━━━━━━━━━━━━━━━━━━━━━━━━━━━━━━━━\u001B[0m \u001B[32m9.4/9.4 MB\u001B[0m \u001B[31m1.1 MB/s\u001B[0m eta \u001B[36m0:00:00\u001B[0m00:01\u001B[0m00:01\u001B[0m0m\r\n",
      "\u001B[?25hRequirement already satisfied: numpy<2.0,>=1.17.3 in /Users/yzb/anaconda3/envs/model/lib/python3.11/site-packages (from scikit-learn) (1.26.2)\r\n",
      "Requirement already satisfied: scipy>=1.5.0 in /Users/yzb/anaconda3/envs/model/lib/python3.11/site-packages (from scikit-learn) (1.11.4)\r\n",
      "Collecting joblib>=1.1.1 (from scikit-learn)\r\n",
      "  Using cached https://mirrors.cloud.tencent.com/pypi/packages/10/40/d551139c85db202f1f384ba8bcf96aca2f329440a844f924c8a0040b6d02/joblib-1.3.2-py3-none-any.whl (302 kB)\r\n",
      "Collecting threadpoolctl>=2.0.0 (from scikit-learn)\r\n",
      "  Using cached https://mirrors.cloud.tencent.com/pypi/packages/81/12/fd4dea011af9d69e1cad05c75f3f7202cdcbeac9b712eea58ca779a72865/threadpoolctl-3.2.0-py3-none-any.whl (15 kB)\r\n",
      "Installing collected packages: threadpoolctl, joblib, scikit-learn\r\n",
      "Successfully installed joblib-1.3.2 scikit-learn-1.3.2 threadpoolctl-3.2.0\r\n"
     ]
    }
   ],
   "source": [
    "!pip install scikit-learn\n",
    "import numpy as np"
   ]
  },
  {
   "cell_type": "markdown",
   "metadata": {
    "id": "qxuk3H4VWirh"
   },
   "source": [
    "## 0 语料准备"
   ]
  },
  {
   "cell_type": "code",
   "execution_count": 20,
   "metadata": {
    "id": "lf5VZLFYVGhP",
    "ExecuteTime": {
     "end_time": "2023-12-18T07:06:44.157179Z",
     "start_time": "2023-12-18T07:06:44.149933Z"
    }
   },
   "outputs": [],
   "source": [
    "# 语料\n",
    "corpus = ['这 是 第一个 文档',\n",
    "        '这是 第二个 文档',\n",
    "        '这是 最后 一个 文档',\n",
    "        '现在 没有 文档 了']"
   ]
  },
  {
   "cell_type": "markdown",
   "metadata": {
    "id": "Udh3546TjlFJ"
   },
   "source": [
    "## 1. 手动实现（One-Hot）"
   ]
  },
  {
   "cell_type": "code",
   "execution_count": 21,
   "metadata": {
    "colab": {
     "base_uri": "https://localhost:8080/"
    },
    "id": "bH4-l595joz8",
    "outputId": "8fe68d8c-462a-43ff-983f-d99b974557d7",
    "ExecuteTime": {
     "end_time": "2023-12-18T07:06:44.157541Z",
     "start_time": "2023-12-18T07:06:44.153296Z"
    }
   },
   "outputs": [
    {
     "name": "stdout",
     "output_type": "stream",
     "text": [
      "{'是': 0, '这': 1, '第一个': 2, '文档': 3, '这是': 4, '最后': 5, '没有': 6, '了': 7, '第二个': 8, '现在': 9, '一个': 10}\n"
     ]
    }
   ],
   "source": [
    "# 词袋\n",
    "words=[]\n",
    "for corpu in corpus:\n",
    "  words.extend(corpu.split())\n",
    "\n",
    "# 词的列表\n",
    "word_list=list(set(words))\n",
    "# 字典\n",
    "word_dct= {word:index for index,word in enumerate(word_list)}\n",
    "# 词典大小\n",
    "vocab_size=len(word_dct)\n",
    "print(word_dct)"
   ]
  },
  {
   "cell_type": "code",
   "execution_count": 22,
   "metadata": {
    "id": "e11xGDmXhxlf",
    "ExecuteTime": {
     "end_time": "2023-12-18T07:06:44.170792Z",
     "start_time": "2023-12-18T07:06:44.158143Z"
    }
   },
   "outputs": [],
   "source": [
    "def get_one_hot(index):\n",
    "  \"\"\"\n",
    "  获得one hot编码\n",
    "  \"\"\"\n",
    "  # 初始化全0列表\n",
    "  one_hot=[0 for i in range(vocab_size)]\n",
    "  # 标记对应位置为1\n",
    "  one_hot[index]=1\n",
    "  # 将列表转换成矩阵\n",
    "  return np.array(one_hot)"
   ]
  },
  {
   "cell_type": "code",
   "execution_count": 23,
   "metadata": {
    "colab": {
     "base_uri": "https://localhost:8080/"
    },
    "id": "dau0VyyyiPHv",
    "outputId": "99ec6a88-2bff-41e6-c12d-be809f78d989",
    "ExecuteTime": {
     "end_time": "2023-12-18T07:06:44.171279Z",
     "start_time": "2023-12-18T07:06:44.160625Z"
    }
   },
   "outputs": [
    {
     "data": {
      "text/plain": "array([0, 1, 0, 0, 0, 0, 0, 0, 0, 0, 0])"
     },
     "execution_count": 23,
     "metadata": {},
     "output_type": "execute_result"
    }
   ],
   "source": [
    "get_one_hot(1)"
   ]
  },
  {
   "cell_type": "markdown",
   "metadata": {
    "id": "NVsQyxQ3kJTV"
   },
   "source": [
    "### 原始句子"
   ]
  },
  {
   "cell_type": "code",
   "execution_count": 24,
   "metadata": {
    "colab": {
     "base_uri": "https://localhost:8080/",
     "height": 35
    },
    "id": "fSIFpNclkChD",
    "outputId": "714a5d35-bc85-4a07-9324-cf1a7f80e416",
    "ExecuteTime": {
     "end_time": "2023-12-18T07:06:44.171538Z",
     "start_time": "2023-12-18T07:06:44.163096Z"
    }
   },
   "outputs": [
    {
     "data": {
      "text/plain": "'这 是 第一个 文档'"
     },
     "execution_count": 24,
     "metadata": {},
     "output_type": "execute_result"
    }
   ],
   "source": [
    "corpus[0]"
   ]
  },
  {
   "cell_type": "markdown",
   "metadata": {
    "id": "MYdciEVDkF4S"
   },
   "source": [
    "### 转换成索引"
   ]
  },
  {
   "cell_type": "code",
   "execution_count": 25,
   "metadata": {
    "colab": {
     "base_uri": "https://localhost:8080/"
    },
    "id": "g-s6A0kKjzdS",
    "outputId": "5822f812-bbbd-44a7-94fb-478ac1bc4e2c",
    "ExecuteTime": {
     "end_time": "2023-12-18T07:06:44.171781Z",
     "start_time": "2023-12-18T07:06:44.165419Z"
    }
   },
   "outputs": [
    {
     "data": {
      "text/plain": "[1, 0, 2, 3]"
     },
     "execution_count": 25,
     "metadata": {},
     "output_type": "execute_result"
    }
   ],
   "source": [
    "indexs=[word_dct[i] for i in corpus[0].split()]\n",
    "indexs"
   ]
  },
  {
   "cell_type": "markdown",
   "metadata": {
    "id": "O2TBNxTskLUC"
   },
   "source": [
    "### 句子-> 索引 ->one hot"
   ]
  },
  {
   "cell_type": "code",
   "execution_count": 26,
   "metadata": {
    "colab": {
     "base_uri": "https://localhost:8080/"
    },
    "id": "vZguV-IPjwlT",
    "outputId": "c80f8278-97fc-4b7f-d431-fe0102e76fea",
    "ExecuteTime": {
     "end_time": "2023-12-18T07:06:44.172003Z",
     "start_time": "2023-12-18T07:06:44.167806Z"
    }
   },
   "outputs": [
    {
     "data": {
      "text/plain": "array([[0, 1, 0, 0, 0, 0, 0, 0, 0, 0, 0],\n       [1, 0, 0, 0, 0, 0, 0, 0, 0, 0, 0],\n       [0, 0, 1, 0, 0, 0, 0, 0, 0, 0, 0],\n       [0, 0, 0, 1, 0, 0, 0, 0, 0, 0, 0]])"
     },
     "execution_count": 26,
     "metadata": {},
     "output_type": "execute_result"
    }
   ],
   "source": [
    "one_hot_list=np.array([get_one_hot(index) for index in indexs])\n",
    "one_hot_list"
   ]
  },
  {
   "cell_type": "markdown",
   "metadata": {
    "id": "fIMjfr95VotT"
   },
   "source": [
    "## 2 . Sklearn实现"
   ]
  },
  {
   "cell_type": "code",
   "execution_count": 27,
   "metadata": {
    "id": "RpFQb9AIkzdZ",
    "ExecuteTime": {
     "end_time": "2023-12-18T07:07:00.222847Z",
     "start_time": "2023-12-18T07:06:44.169868Z"
    }
   },
   "outputs": [],
   "source": [
    "from sklearn.preprocessing import OneHotEncoder,LabelBinarizer"
   ]
  },
  {
   "cell_type": "markdown",
   "metadata": {
    "id": "DxwltGC4tjsu"
   },
   "source": [
    "### 初始化编码器"
   ]
  },
  {
   "cell_type": "code",
   "execution_count": 28,
   "metadata": {
    "id": "5yLNRt2zsb6B",
    "ExecuteTime": {
     "end_time": "2023-12-18T07:07:00.238470Z",
     "start_time": "2023-12-18T07:07:00.227142Z"
    }
   },
   "outputs": [
    {
     "data": {
      "text/plain": "array(['一个', '了', '文档', '是', '最后', '没有', '现在', '第一个', '第二个', '这', '这是'],\n      dtype='<U3')"
     },
     "execution_count": 28,
     "metadata": {},
     "output_type": "execute_result"
    }
   ],
   "source": [
    "lb = LabelBinarizer()\n",
    "lb.fit(word_list)\n",
    "# lb.classes_=np.array(word_list)\n",
    "lb.classes_"
   ]
  },
  {
   "cell_type": "markdown",
   "metadata": {
    "id": "HEvU16TwtBsg"
   },
   "source": [
    "### 原始句子"
   ]
  },
  {
   "cell_type": "code",
   "execution_count": 29,
   "metadata": {
    "colab": {
     "base_uri": "https://localhost:8080/"
    },
    "id": "Y-gEreSSszmB",
    "outputId": "da725304-bd9d-4181-f84b-e379d9216bda",
    "ExecuteTime": {
     "end_time": "2023-12-18T07:07:00.239399Z",
     "start_time": "2023-12-18T07:07:00.235199Z"
    }
   },
   "outputs": [
    {
     "data": {
      "text/plain": "['这', '是', '第一个', '文档']"
     },
     "execution_count": 29,
     "metadata": {},
     "output_type": "execute_result"
    }
   ],
   "source": [
    "sentence=corpus[0].split()\n",
    "sentence"
   ]
  },
  {
   "cell_type": "markdown",
   "metadata": {
    "id": "_JbJRaVvtHQN"
   },
   "source": [
    "### 编码（词列表-> one hot）"
   ]
  },
  {
   "cell_type": "code",
   "execution_count": 30,
   "metadata": {
    "colab": {
     "base_uri": "https://localhost:8080/"
    },
    "id": "Semkt4qusTl-",
    "outputId": "71319800-7763-4d41-c888-4f2b2f169755",
    "ExecuteTime": {
     "end_time": "2023-12-18T07:07:00.250012Z",
     "start_time": "2023-12-18T07:07:00.241978Z"
    }
   },
   "outputs": [
    {
     "data": {
      "text/plain": "array([[0, 0, 0, 0, 0, 0, 0, 0, 0, 1, 0],\n       [0, 0, 0, 1, 0, 0, 0, 0, 0, 0, 0],\n       [0, 0, 0, 0, 0, 0, 0, 1, 0, 0, 0],\n       [0, 0, 1, 0, 0, 0, 0, 0, 0, 0, 0]])"
     },
     "execution_count": 30,
     "metadata": {},
     "output_type": "execute_result"
    }
   ],
   "source": [
    "encode_sentence=lb.transform(sentence)\n",
    "encode_sentence"
   ]
  },
  {
   "cell_type": "markdown",
   "metadata": {
    "id": "zPv09_Rutfar"
   },
   "source": [
    "### 解码（one hot->词列表）"
   ]
  },
  {
   "cell_type": "code",
   "execution_count": 31,
   "metadata": {
    "colab": {
     "base_uri": "https://localhost:8080/"
    },
    "id": "cg_GvPFplq-T",
    "outputId": "13382c7a-af6b-435e-eec3-02051c6d14d5",
    "ExecuteTime": {
     "end_time": "2023-12-18T07:07:00.250648Z",
     "start_time": "2023-12-18T07:07:00.245647Z"
    }
   },
   "outputs": [
    {
     "data": {
      "text/plain": "array(['这', '是', '第一个', '文档'], dtype='<U3')"
     },
     "execution_count": 31,
     "metadata": {},
     "output_type": "execute_result"
    }
   ],
   "source": [
    "lb.inverse_transform(encode_sentence)"
   ]
  },
  {
   "cell_type": "markdown",
   "metadata": {
    "id": "7yqG56PcYI-3"
   },
   "source": [
    "# 参考\n",
    "[1] [Sklearn官方文档](https://scikit-learn.org/stable/modules/generated/sklearn.preprocessing.LabelBinarizer.html#sklearn.preprocessing.LabelBinarizer)"
   ]
  }
 ],
 "metadata": {
  "colab": {
   "authorship_tag": "ABX9TyMVe231E7kZZVsNa0Z9Jf5m",
   "collapsed_sections": [],
   "include_colab_link": true,
   "name": "One-Hot.ipynb",
   "provenance": []
  },
  "kernelspec": {
   "display_name": "Python 3",
   "language": "python",
   "name": "python3"
  },
  "language_info": {
   "codemirror_mode": {
    "name": "ipython",
    "version": 3
   },
   "file_extension": ".py",
   "mimetype": "text/x-python",
   "name": "python",
   "nbconvert_exporter": "python",
   "pygments_lexer": "ipython3",
   "version": "3.7.4"
  }
 },
 "nbformat": 4,
 "nbformat_minor": 4
}
